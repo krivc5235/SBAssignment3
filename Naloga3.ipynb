{
  "nbformat": 4,
  "nbformat_minor": 0,
  "metadata": {
    "colab": {
      "name": "Naloga3.ipynb",
      "provenance": [],
      "collapsed_sections": []
    },
    "kernelspec": {
      "name": "python3",
      "display_name": "Python 3"
    },
    "language_info": {
      "name": "python"
    },
    "accelerator": "GPU"
  },
  "cells": [
    {
      "cell_type": "code",
      "source": [
        "import torch\n",
        "import torch.nn as nn\n",
        "import torch.utils.data as data\n",
        "import torchvision\n",
        "from torchvision import transforms\n",
        "from __future__ import print_function, division\n",
        "import torch.optim as optim\n",
        "from torch.optim import lr_scheduler\n",
        "import numpy as np\n",
        "import torchvision\n",
        "from torchvision import datasets, models, transforms\n",
        "import matplotlib.pyplot as plt\n",
        "import time\n",
        "import os\n",
        "import copy"
      ],
      "metadata": {
        "id": "HbVljz-qe-bV"
      },
      "execution_count": null,
      "outputs": []
    },
    {
      "cell_type": "code",
      "execution_count": null,
      "metadata": {
        "colab": {
          "base_uri": "https://localhost:8080/"
        },
        "id": "0XienxvCmHw6",
        "outputId": "ee9ff07e-daa8-47df-a277-1c0bc757d0b1"
      },
      "outputs": [
        {
          "output_type": "stream",
          "name": "stdout",
          "text": [
            "Mounted at /content/drive/\n"
          ]
        }
      ],
      "source": [
        "from google.colab import drive\n",
        "import os\n",
        "drive.mount(\"/content/drive/\")"
      ]
    },
    {
      "cell_type": "code",
      "source": [
        "!pip install patool\n",
        "import patoolib\n",
        "import os\n",
        "os.mkdir(\"/content/dataset\")\n",
        "patoolib.extract_archive(\"/content/drive/MyDrive/YOLO/dataset.rar\", outdir=\"/content/dataset\")\n",
        "#!unrar x \"/content/drive/MyDrive/YOLO/dataset\" \"/content/dataset\"\n",
        "!unzip \"/content/drive/MyDrive/YOLO/Regular Track - Files for Assignment 3.zip\" -d \"/content/naloga\"   "
      ],
      "metadata": {
        "id": "IQM25TM0Ad8u"
      },
      "execution_count": null,
      "outputs": []
    },
    {
      "cell_type": "code",
      "source": [
        "import torchvision\n",
        "import torch\n",
        "data_transforms = {\n",
        "    'train': transforms.Compose([\n",
        "        transforms.Resize([128, 64]),\n",
        "        transforms.RandomHorizontalFlip(),\n",
        "        transforms.ToTensor(),\n",
        "        transforms.Normalize([0.485, 0.456, 0.406], [0.229, 0.224, 0.225])\n",
        "    ]),\n",
        "    'val': transforms.Compose([\n",
        "        transforms.Resize([128, 64]),\n",
        "        transforms.ToTensor(),\n",
        "        transforms.Normalize([0.485, 0.456, 0.406], [0.229, 0.224, 0.225])\n",
        "    ]),\n",
        "}\n",
        "\n",
        "train_directory = \"/content/dataset/train\"\n",
        "#print(train_set)\n",
        "#print(len(train_set))\n",
        "train_size = int(0.8 * len(train_set))\n",
        "val_size = len(train_set) - train_size\n",
        "train_dataset, val_dataset = torch.utils.data.random_split(train_set, [train_size, val_size], generator=torch.Generator().manual_seed(42))\n",
        "train_loader = torch.utils.data.DataLoader(train_dataset, batch_size=8,\n",
        "                                          shuffle=True, num_workers=2)\n",
        "val_loader = torch.utils.data.DataLoader(val_dataset, batch_size=8,\n",
        "                                          shuffle=True, num_workers=2)\n",
        "\n",
        "\n",
        "image_datasets = {'train': train_dataset, 'val': val_dataset}\n",
        "dataloaders = {'train': train_loader, 'val': val_loader}\n",
        "dataset_sizes = {x: len(image_datasets[x]) for x in ['train', 'val']}\n",
        "!rm -R /content/dataset/test_data/.ipynb_checkpoints\n",
        "from torch.utils.data import DataLoader \n",
        "test_dataset = torchvision.datasets.ImageFolder(root=\"/content/dataset/test\", transform=data_transforms['val'])\n",
        "test_loader = DataLoader(test_dataset, batch_size=64, num_workers=2)"
      ],
      "metadata": {
        "id": "ISgXk92Qlgbq"
      },
      "execution_count": null,
      "outputs": []
    },
    {
      "cell_type": "code",
      "source": [
        "train_losses = []\n",
        "val_losses = []\n",
        "\n",
        "train_accuracies = []\n",
        "val_accuracies = []\n",
        "\n",
        "def train_model(model, criterion, optimizer, scheduler, num_epochs=25):\n",
        "    best_acc = 0.0\n",
        "\n",
        "    for epoch in range(num_epochs):\n",
        "        print('Epoch {}/{}'.format(epoch, num_epochs - 1))\n",
        "        print('-' * 10)\n",
        "\n",
        "    \n",
        "\n",
        "        running_loss = 0.0\n",
        "        running_corrects = 0\n",
        "        print(\"training\")\n",
        "        for inputs, labels in train_dataloader:\n",
        "            inputs = inputs.to(device)\n",
        "            labels = labels.to(device)\n",
        "\n",
        "            with torch.set_grad_enabled(phase == 'train'):\n",
        "                outputs = model(inputs)\n",
        "                _, preds = torch.max(outputs, 1)\n",
        "                loss = criterion(outputs, labels)\n",
        "                loss.backward()\n",
        "                optimizer.step()\n",
        "\n",
        "            running_loss += loss.item() * inputs.size(0)\n",
        "            running_corrects += torch.sum(preds == labels.data)\n",
        "            scheduler.step()\n",
        "        epoch_loss = running_loss / dataset_sizes[phase]\n",
        "        epoch_acc = running_corrects.double() / dataset_sizes[phase]\n",
        "        train_losses.append(epoch_loss)\n",
        "        train_accuracies.append(epoch_acc)\n",
        "        print('Train Loss: {:.4f} Acc: {:.4f}'.format(\n",
        "        epoch_loss, epoch_acc))\n",
        "\n",
        "        print()\n",
        "        print(\"evaluating\")\n",
        "        for inputs, labels in test_dataloader:\n",
        "            inputs = inputs.to(device)\n",
        "            labels = labels.to(device)\n",
        "\n",
        "            # zero the parameter gradients\n",
        "            optimizer.zero_grad()\n",
        "            outputs = model(inputs)\n",
        "            _, preds = torch.max(outputs, 1)\n",
        "            loss = criterion(outputs, labels)\n",
        "            running_loss += loss.item() * inputs.size(0)\n",
        "            running_corrects += torch.sum(preds == labels.data)\n",
        "            epoch_loss = running_loss / dataset_sizes[phase]\n",
        "            epoch_acc = running_corrects.double() / dataset_sizes[phase]\n",
        "            val_losses.append(epoch_loss)\n",
        "            val_accuracies.append(epoch_acc)\n",
        "            print('Validation Loss: {:.4f} Acc: {:.4f}'.format(\n",
        "            epoch_loss, epoch_acc))\n",
        "            if epoch_acc > best_acc:\n",
        "                best_acc = epoch_acc\n",
        "                torch.save(model.state_dict(), \"resnet2_best.pth\")\n",
        "\n",
        "            # Iterate over data.\n",
        "        print()\n",
        "\n",
        "  \n",
        "    print('Best val Acc: {:4f}'.format(best_acc))\n",
        "\n",
        "    # load best model weights\n",
        "    return model"
      ],
      "metadata": {
        "id": "dzgdF8fJEvQO"
      },
      "execution_count": null,
      "outputs": []
    },
    {
      "cell_type": "code",
      "source": [
        "device = torch.device('cuda:0' if torch.cuda.is_available() else 'cpu')\n",
        "print(device)\n",
        "model = torchvision.models.resnet18(pretrained=True)\n",
        "num_ftrs = model.fc.in_features\n",
        "# Here the size of each output sample is set to 2.\n",
        "# Alternatively, it can be generalized to nn.Linear(num_ftrs, len(class_names)).\n",
        "model.fc = nn.Linear(num_ftrs, 100)\n",
        "\n",
        "model = model.to(device)\n",
        "\n",
        "criterion = nn.CrossEntropyLoss()\n",
        "\n",
        "# Observe that all parameters are being optimized\n",
        "optimizer = optim.SGD(model.parameters(), lr=0.001, momentum=0.9)\n",
        "\n",
        "# Decay LR by a factor of 0.1 every 7 epochs\n",
        "exp_lr_scheduler = lr_scheduler.StepLR(optimizer, step_size=7, gamma=0.1)\n",
        "\n",
        "model = train_model(model, criterion, optimizer, exp_lr_scheduler, num_epochs=25)"
      ],
      "metadata": {
        "colab": {
          "base_uri": "https://localhost:8080/",
          "height": 1000
        },
        "id": "5RqPvZMhEzbD",
        "outputId": "02c24ea5-bbb3-4317-8b07-3c90e23ecccf"
      },
      "execution_count": null,
      "outputs": [
        {
          "output_type": "stream",
          "name": "stdout",
          "text": [
            "cuda:0\n",
            "Epoch 0/24\n",
            "----------\n",
            "training\n",
            "train Loss: 4.1560 Acc: 0.1028\n",
            "evaluating\n",
            "val Loss: 3.8958 Acc: 0.1352\n",
            "\n",
            "Epoch 1/24\n",
            "----------\n",
            "training\n",
            "train Loss: 2.4132 Acc: 0.4465\n",
            "evaluating\n",
            "val Loss: 3.2486 Acc: 0.2523\n",
            "\n",
            "Epoch 2/24\n",
            "----------\n",
            "training\n",
            "train Loss: 1.2691 Acc: 0.7122\n",
            "evaluating\n",
            "val Loss: 2.9933 Acc: 0.3079\n",
            "\n",
            "Epoch 3/24\n",
            "----------\n",
            "training\n",
            "train Loss: 0.6935 Acc: 0.8580\n",
            "evaluating\n",
            "val Loss: 2.9197 Acc: 0.3380\n",
            "\n",
            "Epoch 4/24\n",
            "----------\n",
            "training\n",
            "train Loss: 0.4375 Acc: 0.9139\n",
            "evaluating\n",
            "val Loss: 2.9004 Acc: 0.3661\n",
            "\n",
            "Epoch 5/24\n",
            "----------\n",
            "training\n",
            "train Loss: 0.2770 Acc: 0.9498\n",
            "evaluating\n",
            "val Loss: 2.9011 Acc: 0.3474\n",
            "\n",
            "Epoch 6/24\n",
            "----------\n",
            "training\n",
            "train Loss: 0.1866 Acc: 0.9679\n",
            "evaluating\n",
            "val Loss: 2.9008 Acc: 0.3722\n",
            "\n",
            "Epoch 7/24\n",
            "----------\n",
            "training\n",
            "train Loss: 0.1106 Acc: 0.9879\n",
            "evaluating\n",
            "val Loss: 2.7716 Acc: 0.3956\n",
            "\n",
            "Epoch 8/24\n",
            "----------\n",
            "training\n",
            "train Loss: 0.0912 Acc: 0.9915\n",
            "evaluating\n",
            "val Loss: 2.7148 Acc: 0.3956\n",
            "\n",
            "Epoch 9/24\n",
            "----------\n",
            "training\n",
            "train Loss: 0.0818 Acc: 0.9931\n",
            "evaluating\n",
            "val Loss: 2.7285 Acc: 0.4023\n",
            "\n",
            "Epoch 10/24\n",
            "----------\n",
            "training\n",
            "train Loss: 0.0757 Acc: 0.9912\n",
            "evaluating\n",
            "val Loss: 2.6720 Acc: 0.4029\n",
            "\n",
            "Epoch 11/24\n",
            "----------\n",
            "training\n",
            "train Loss: 0.0701 Acc: 0.9931\n",
            "evaluating\n",
            "val Loss: 2.7110 Acc: 0.3849\n",
            "\n",
            "Epoch 12/24\n",
            "----------\n",
            "training\n",
            "train Loss: 0.0621 Acc: 0.9923\n",
            "evaluating\n",
            "val Loss: 2.6999 Acc: 0.3942\n",
            "\n",
            "Epoch 13/24\n",
            "----------\n",
            "training\n",
            "train Loss: 0.0537 Acc: 0.9967\n",
            "evaluating\n",
            "val Loss: 2.6362 Acc: 0.4003\n",
            "\n",
            "Epoch 14/24\n",
            "----------\n",
            "training\n",
            "train Loss: 0.0560 Acc: 0.9959\n",
            "evaluating\n",
            "val Loss: 2.6544 Acc: 0.4023\n",
            "\n",
            "Epoch 15/24\n",
            "----------\n",
            "training\n",
            "train Loss: 0.0593 Acc: 0.9964\n",
            "evaluating\n",
            "val Loss: 2.6992 Acc: 0.3963\n",
            "\n",
            "Epoch 16/24\n",
            "----------\n",
            "training\n",
            "train Loss: 0.0577 Acc: 0.9973\n",
            "evaluating\n",
            "val Loss: 2.6829 Acc: 0.3976\n",
            "\n",
            "Epoch 17/24\n",
            "----------\n",
            "training\n",
            "train Loss: 0.0555 Acc: 0.9970\n",
            "evaluating\n",
            "val Loss: 2.6755 Acc: 0.4003\n",
            "\n",
            "Epoch 18/24\n",
            "----------\n",
            "training\n",
            "train Loss: 0.0574 Acc: 0.9962\n",
            "evaluating\n",
            "val Loss: 2.6455 Acc: 0.3989\n",
            "\n",
            "Epoch 19/24\n",
            "----------\n",
            "training\n",
            "train Loss: 0.0583 Acc: 0.9962\n",
            "evaluating\n",
            "val Loss: 2.6530 Acc: 0.3983\n",
            "\n",
            "Epoch 20/24\n",
            "----------\n",
            "training\n",
            "train Loss: 0.0584 Acc: 0.9967\n",
            "evaluating\n",
            "val Loss: 2.6796 Acc: 0.3969\n",
            "\n",
            "Epoch 21/24\n",
            "----------\n",
            "training\n",
            "train Loss: 0.0528 Acc: 0.9962\n",
            "evaluating\n",
            "val Loss: 2.6500 Acc: 0.3969\n",
            "\n",
            "Epoch 22/24\n",
            "----------\n",
            "training\n",
            "train Loss: 0.0520 Acc: 0.9978\n",
            "evaluating\n",
            "val Loss: 2.6532 Acc: 0.3929\n",
            "\n",
            "Epoch 23/24\n",
            "----------\n",
            "training\n",
            "train Loss: 0.0523 Acc: 0.9973\n",
            "evaluating\n",
            "val Loss: 2.6680 Acc: 0.3956\n",
            "\n",
            "Epoch 24/24\n",
            "----------\n",
            "training\n",
            "train Loss: 0.0538 Acc: 0.9959\n",
            "evaluating\n",
            "val Loss: 2.6693 Acc: 0.3896\n",
            "\n",
            "Best val Acc: 0.402945\n"
          ]
        },
        {
          "output_type": "error",
          "ename": "NameError",
          "evalue": "ignored",
          "traceback": [
            "\u001b[0;31m---------------------------------------------------------------------------\u001b[0m",
            "\u001b[0;31mNameError\u001b[0m                                 Traceback (most recent call last)",
            "\u001b[0;32m<ipython-input-13-d3da9642458d>\u001b[0m in \u001b[0;36m<module>\u001b[0;34m()\u001b[0m\n\u001b[1;32m     17\u001b[0m \u001b[0mexp_lr_scheduler\u001b[0m \u001b[0;34m=\u001b[0m \u001b[0mlr_scheduler\u001b[0m\u001b[0;34m.\u001b[0m\u001b[0mStepLR\u001b[0m\u001b[0;34m(\u001b[0m\u001b[0moptimizer\u001b[0m\u001b[0;34m,\u001b[0m \u001b[0mstep_size\u001b[0m\u001b[0;34m=\u001b[0m\u001b[0;36m7\u001b[0m\u001b[0;34m,\u001b[0m \u001b[0mgamma\u001b[0m\u001b[0;34m=\u001b[0m\u001b[0;36m0.1\u001b[0m\u001b[0;34m)\u001b[0m\u001b[0;34m\u001b[0m\u001b[0;34m\u001b[0m\u001b[0m\n\u001b[1;32m     18\u001b[0m \u001b[0;34m\u001b[0m\u001b[0m\n\u001b[0;32m---> 19\u001b[0;31m \u001b[0mmodel\u001b[0m \u001b[0;34m=\u001b[0m \u001b[0mtrain_model\u001b[0m\u001b[0;34m(\u001b[0m\u001b[0mmodel\u001b[0m\u001b[0;34m,\u001b[0m \u001b[0mcriterion\u001b[0m\u001b[0;34m,\u001b[0m \u001b[0moptimizer\u001b[0m\u001b[0;34m,\u001b[0m \u001b[0mexp_lr_scheduler\u001b[0m\u001b[0;34m,\u001b[0m \u001b[0mnum_epochs\u001b[0m\u001b[0;34m=\u001b[0m\u001b[0;36m25\u001b[0m\u001b[0;34m)\u001b[0m\u001b[0;34m\u001b[0m\u001b[0;34m\u001b[0m\u001b[0m\n\u001b[0m",
            "\u001b[0;32m<ipython-input-12-f129db5e7b6f>\u001b[0m in \u001b[0;36mtrain_model\u001b[0;34m(model, criterion, optimizer, scheduler, num_epochs)\u001b[0m\n\u001b[1;32m     75\u001b[0m \u001b[0;34m\u001b[0m\u001b[0m\n\u001b[1;32m     76\u001b[0m     \u001b[0;31m# load best model weights\u001b[0m\u001b[0;34m\u001b[0m\u001b[0;34m\u001b[0m\u001b[0;34m\u001b[0m\u001b[0m\n\u001b[0;32m---> 77\u001b[0;31m     \u001b[0mmodel\u001b[0m\u001b[0;34m.\u001b[0m\u001b[0mload_state_dict\u001b[0m\u001b[0;34m(\u001b[0m\u001b[0mbest_model_wts\u001b[0m\u001b[0;34m)\u001b[0m\u001b[0;34m\u001b[0m\u001b[0;34m\u001b[0m\u001b[0m\n\u001b[0m\u001b[1;32m     78\u001b[0m     \u001b[0;32mreturn\u001b[0m \u001b[0mmodel\u001b[0m\u001b[0;34m\u001b[0m\u001b[0;34m\u001b[0m\u001b[0m\n",
            "\u001b[0;31mNameError\u001b[0m: name 'best_model_wts' is not defined"
          ]
        }
      ]
    },
    {
      "cell_type": "code",
      "source": [
        "class ResNet(nn.Module):\n",
        "  def __init__(self, n_classes):\n",
        "    super().__init__()\n",
        "    resnet = torchvision.models.resnet50(pretrained=True)\n",
        "    resnet.fc = nn.Sequential(\n",
        "      nn.Linear(in_features=2048, out_features=1024),\n",
        "      nn.ReLU(),\n",
        "      nn.Dropout(p=0.2),\n",
        "      nn.Linear(in_features=1024, out_features=512),\n",
        "      nn.ReLU(),\n",
        "      nn.Dropout(p=0.2),\n",
        "      nn.Linear(in_features=512, out_features=n_classes),\n",
        "    )\n",
        "    self.base_model = resnet\n",
        "    self.sigm = nn.Sigmoid()\n",
        "  def forward(self, x):\n",
        "      return self.base_model(x)"
      ],
      "metadata": {
        "id": "fyMtdT6YFJnu"
      },
      "execution_count": null,
      "outputs": []
    },
    {
      "cell_type": "code",
      "source": [
        "criterion = nn.CrossEntropyLoss()\n",
        "from torch.optim import lr_scheduler\n",
        "model = ResNet(100)\n",
        "model.to(device)\n",
        "#num_features = model.fc.in_features\n",
        "#model.fc = nn.Linear(num_features, 100)\n",
        "#model.load_state_dict(torch.load(\"/content/model3_weights_epoch1.pth\"))\n",
        "optimizer = torch.optim.SGD(model.parameters(),lr = 0.001, momentum=0.9)\n",
        "scheduler = lr_scheduler.StepLR(optimizer, step_size=7, gamma=0.1)\n",
        "model = train_model(model, criterion, optimizer, scheduler, num_epochs=25)"
      ],
      "metadata": {
        "colab": {
          "base_uri": "https://localhost:8080/"
        },
        "id": "pH9kuEmRf_uk",
        "outputId": "b802a0a1-af9b-4cb2-852b-50de8a1f3d25"
      },
      "execution_count": null,
      "outputs": [
        {
          "output_type": "stream",
          "name": "stdout",
          "text": [
            "Epoch 0/24\n",
            "----------\n",
            "training\n",
            "train Loss: 4.6024 Acc: 0.0123\n",
            "evaluating\n",
            "val Loss: 4.5693 Acc: 0.0201\n",
            "\n",
            "Epoch 1/24\n",
            "----------\n",
            "training\n",
            "train Loss: 4.5313 Acc: 0.0252\n",
            "evaluating\n",
            "val Loss: 4.4659 Acc: 0.0489\n",
            "\n",
            "Epoch 2/24\n",
            "----------\n",
            "training\n",
            "train Loss: 4.3137 Acc: 0.0529\n",
            "evaluating\n",
            "val Loss: 4.1540 Acc: 0.0830\n",
            "\n",
            "Epoch 3/24\n",
            "----------\n",
            "training\n",
            "train Loss: 3.7424 Acc: 0.1283\n",
            "evaluating\n",
            "val Loss: 3.7488 Acc: 0.1406\n",
            "\n",
            "Epoch 4/24\n",
            "----------\n",
            "training\n",
            "train Loss: 2.9576 Acc: 0.2495\n",
            "evaluating\n",
            "val Loss: 3.5895 Acc: 0.1774\n",
            "\n",
            "Epoch 5/24\n",
            "----------\n",
            "training\n",
            "train Loss: 2.3411 Acc: 0.3772\n",
            "evaluating\n",
            "val Loss: 3.3041 Acc: 0.2510\n",
            "\n",
            "Epoch 6/24\n",
            "----------\n",
            "training\n",
            "train Loss: 1.7149 Acc: 0.5233\n",
            "evaluating\n",
            "val Loss: 3.3813 Acc: 0.3039\n",
            "\n",
            "Epoch 7/24\n",
            "----------\n",
            "training\n",
            "train Loss: 1.0732 Acc: 0.7215\n",
            "evaluating\n",
            "val Loss: 2.9973 Acc: 0.3313\n",
            "\n",
            "Epoch 8/24\n",
            "----------\n",
            "training\n",
            "train Loss: 0.8374 Acc: 0.7892\n",
            "evaluating\n",
            "val Loss: 2.8974 Acc: 0.3427\n",
            "\n",
            "Epoch 9/24\n",
            "----------\n",
            "training\n",
            "train Loss: 0.7169 Acc: 0.8169\n",
            "evaluating\n",
            "val Loss: 2.9685 Acc: 0.3501\n",
            "\n",
            "Epoch 10/24\n",
            "----------\n",
            "training\n",
            "train Loss: 0.6175 Acc: 0.8388\n",
            "evaluating\n",
            "val Loss: 2.9593 Acc: 0.3574\n",
            "\n",
            "Epoch 11/24\n",
            "----------\n",
            "training\n",
            "train Loss: 0.5638 Acc: 0.8605\n",
            "evaluating\n",
            "val Loss: 2.9782 Acc: 0.3688\n",
            "\n",
            "Epoch 12/24\n",
            "----------\n",
            "training\n",
            "train Loss: 0.5209 Acc: 0.8583\n",
            "evaluating\n",
            "val Loss: 3.0109 Acc: 0.3635\n",
            "\n",
            "Epoch 13/24\n",
            "----------\n",
            "training\n",
            "train Loss: 0.5002 Acc: 0.8632\n",
            "evaluating\n",
            "val Loss: 3.0261 Acc: 0.3614\n",
            "\n",
            "Epoch 14/24\n",
            "----------\n",
            "training\n",
            "train Loss: 0.4426 Acc: 0.8887\n",
            "evaluating\n",
            "val Loss: 2.9586 Acc: 0.3748\n",
            "\n",
            "Epoch 15/24\n",
            "----------\n",
            "training\n",
            "train Loss: 0.4333 Acc: 0.8925\n",
            "evaluating\n",
            "val Loss: 3.0051 Acc: 0.3728\n",
            "\n",
            "Epoch 16/24\n",
            "----------\n",
            "training\n",
            "train Loss: 0.4025 Acc: 0.8988\n",
            "evaluating\n",
            "val Loss: 3.0035 Acc: 0.3661\n",
            "\n",
            "Epoch 17/24\n",
            "----------\n",
            "training\n",
            "train Loss: 0.3989 Acc: 0.8986\n",
            "evaluating\n",
            "val Loss: 2.9949 Acc: 0.3869\n",
            "\n",
            "Epoch 18/24\n",
            "----------\n",
            "training\n",
            "train Loss: 0.3985 Acc: 0.9008\n",
            "evaluating\n",
            "val Loss: 3.0127 Acc: 0.3701\n",
            "\n",
            "Epoch 19/24\n",
            "----------\n",
            "training\n",
            "train Loss: 0.3945 Acc: 0.8999\n",
            "evaluating\n",
            "val Loss: 3.0094 Acc: 0.3722\n",
            "\n",
            "Epoch 20/24\n",
            "----------\n",
            "training\n",
            "train Loss: 0.3797 Acc: 0.9030\n",
            "evaluating\n",
            "val Loss: 2.9942 Acc: 0.3755\n",
            "\n",
            "Epoch 21/24\n",
            "----------\n",
            "training\n",
            "train Loss: 0.3906 Acc: 0.8978\n",
            "evaluating\n",
            "val Loss: 3.0583 Acc: 0.3748\n",
            "\n",
            "Epoch 22/24\n",
            "----------\n",
            "training\n",
            "train Loss: 0.3854 Acc: 0.9062\n",
            "evaluating\n",
            "val Loss: 3.0701 Acc: 0.3641\n",
            "\n",
            "Epoch 23/24\n",
            "----------\n",
            "training\n",
            "train Loss: 0.4009 Acc: 0.9010\n",
            "evaluating\n",
            "val Loss: 3.0837 Acc: 0.3661\n",
            "\n",
            "Epoch 24/24\n",
            "----------\n",
            "training\n",
            "train Loss: 0.3954 Acc: 0.8947\n",
            "evaluating\n",
            "val Loss: 3.0408 Acc: 0.3641\n",
            "\n",
            "Best val Acc: 0.386881\n"
          ]
        }
      ]
    },
    {
      "cell_type": "code",
      "source": [
        "!rm -R /content/dataset/test/.ipynb_checkpoints\n",
        "from torch.utils.data import DataLoader \n",
        "test_dataset = torchvision.datasets.ImageFolder(root=\"/content/dataset/test\", transform=transform)\n",
        "test_loader = DataLoader(test_dataset, batch_size=64, num_workers=2)"
      ],
      "metadata": {
        "id": "5NJbD7oe9cBD",
        "colab": {
          "base_uri": "https://localhost:8080/"
        },
        "outputId": "bf7b63bd-cc6a-4b47-bf79-6434216c1e0b"
      },
      "execution_count": null,
      "outputs": [
        {
          "output_type": "stream",
          "name": "stdout",
          "text": [
            "rm: cannot remove '/content/dataset/test/.ipynb_checkpoints': No such file or directory\n"
          ]
        }
      ]
    },
    {
      "cell_type": "code",
      "source": [
        "correct_pred = {classname: 0 for classname in range(100)}\n",
        "total_pred = {classname: 0 for classname in range(100)}\n",
        "import torch\n",
        "\n",
        "model = torchvision.models.resnet18(pretrained=True)\n",
        "num_ftrs = model.fc.in_features\n",
        "# Here the size of each output sample is set to 2.\n",
        "# Alternatively, it can be generalized to nn.Linear(num_ftrs, len(class_names)).\n",
        "model.fc = nn.Linear(num_ftrs, 100)\n",
        "model.load_state_dict(torch.load(\"resnet_best.pth\"))\n",
        "model.eval()\n",
        "# again no gradients needed\n",
        "with torch.no_grad():\n",
        "    curr_loss = 0.0\n",
        "    num_correct = 0\n",
        "    num_all = 0\n",
        "\n",
        "    for data in test_loader:\n",
        "        images, targets = data\n",
        "        outputs = model(images)\n",
        "        _, predictions = torch.max(outputs, 1)\n",
        "        #print(predictions)\n",
        "        # collect the correct predictions for each class\n",
        "        num_correct += torch.sum(predictions == targets.data)\n",
        "        num_all += targets.size(0)\n",
        "    acc = num_correct.double() / num_all\n",
        "    print(acc.item())\n",
        "\n",
        "# print accuracy for each class\n",
        "#for classname, correct_count in correct_pred.items():\n",
        "    #accuracy = 100 * float(correct_count) / total_pred[classname]\n",
        "    #print(f'Accuracy for class: {classname:5s} is {accuracy:.1f} %')\n",
        "print(f'Test accuracy: ' + str(acc.item()))"
      ],
      "metadata": {
        "colab": {
          "base_uri": "https://localhost:8080/"
        },
        "id": "Oxln3zfb9iqT",
        "outputId": "4b28f2f0-82ed-47a2-f17a-2dd60a66256c"
      },
      "execution_count": null,
      "outputs": [
        {
          "output_type": "stream",
          "name": "stdout",
          "text": [
            "0.2755102040816326\n",
            "Test accuracy: 0.2755102040816326\n"
          ]
        }
      ]
    },
    {
      "cell_type": "code",
      "source": [
        "import matplotlib.pyplot as plt\n",
        "\n",
        "plt.figure()\n",
        "plt.plot(train_losses, label=\"train loss\")\n",
        "plt.plot(val_losses, label=\"validation loss\")\n",
        "plt.legend()"
      ],
      "metadata": {
        "colab": {
          "base_uri": "https://localhost:8080/",
          "height": 283
        },
        "id": "3_YsbjRXebgE",
        "outputId": "abb0e3dd-772b-4f4d-e53f-e4b31832bf72"
      },
      "execution_count": null,
      "outputs": [
        {
          "output_type": "execute_result",
          "data": {
            "text/plain": [
              "<matplotlib.legend.Legend at 0x7f8baa9e81d0>"
            ]
          },
          "metadata": {},
          "execution_count": 21
        },
        {
          "output_type": "display_data",
          "data": {
            "image/png": "[encoded data removed]",
            "text/plain": [
              "<Figure size 432x288 with 1 Axes>"
            ]
          },
          "metadata": {
            "needs_background": "light"
          }
        }
      ]
    },
    {
      "cell_type": "code",
      "source": [
        "plt.figure()\n",
        "plt.plot(train_accuracies , label=\"train accuracy\")\n",
        "plt.plot(val_accuracies, label=\"validation accuracy\")\n",
        "plt.legend()"
      ],
      "metadata": {
        "colab": {
          "base_uri": "https://localhost:8080/",
          "height": 283
        },
        "id": "0gbvl6DYe6Cp",
        "outputId": "eab5faf7-0d12-49a0-df98-d6b6c9fc4f20"
      },
      "execution_count": null,
      "outputs": [
        {
          "output_type": "execute_result",
          "data": {
            "text/plain": [
              "<matplotlib.legend.Legend at 0x7f8baa8fa510>"
            ]
          },
          "metadata": {},
          "execution_count": 22
        },
        {
          "output_type": "display_data",
          "data": {
            "image/png": "[encoded data removed]",
            "text/plain": [
              "<Figure size 432x288 with 1 Axes>"
            ]
          },
          "metadata": {
            "needs_background": "light"
          }
        }
      ]
    },
    {
      "cell_type": "code",
      "source": [
        "model = ResNet(100)\n",
        "model.to(device)\n",
        "\n",
        "correct_pred = {classname: 0 for classname in range(100)}\n",
        "total_pred = {classname: 0 for classname in range(100)}\n",
        "import torch\n",
        "# Here the size of each output sample is set to 2.\n",
        "# Alternatively, it can be generalized to nn.Linear(num_ftrs, len(class_names)).\n",
        "\n",
        "model.load_state_dict(torch.load(\"resnet2_best.pth\"))\n",
        "model.eval()\n",
        "# again no gradients needed\n",
        "with torch.no_grad():\n",
        "    curr_loss = 0.0\n",
        "    num_correct = 0\n",
        "    num_all = 0\n",
        "\n",
        "    for data in test_loader:\n",
        "        images, targets = data\n",
        "        images, targets = images.to(device), targets.to(device)\n",
        "        outputs = model(images)\n",
        "        _, predictions = torch.max(outputs, 1)\n",
        "        #print(predictions)\n",
        "        # collect the correct predictions for each class\n",
        "        num_correct += torch.sum(predictions == targets.data)\n",
        "        num_all += targets.size(0)\n",
        "    acc = num_correct.double() / num_all\n",
        "    print(acc.item())\n",
        "\n",
        "# print accuracy for each class\n",
        "#for classname, correct_count in correct_pred.items():\n",
        "    #accuracy = 100 * float(correct_count) / total_pred[classname]\n",
        "    #print(f'Accuracy for class: {classname:5s} is {accuracy:.1f} %')\n",
        "print(f'Test accuracy: ' + str(acc.item()))"
      ],
      "metadata": {
        "colab": {
          "base_uri": "https://localhost:8080/"
        },
        "id": "kpGeSVMJtvbW",
        "outputId": "4aae9186-4673-4f85-a666-55b54bc5e094"
      },
      "execution_count": null,
      "outputs": [
        {
          "output_type": "stream",
          "name": "stdout",
          "text": [
            "0.24149659863945577\n",
            "Test accuracy: 0.24149659863945577\n"
          ]
        }
      ]
    },
    {
      "cell_type": "code",
      "source": [
        "plt.figure()\n",
        "plt.plot(train_losses, label=\"train loss\")\n",
        "plt.plot(val_losses, label=\"validation loss\")\n",
        "plt.legend()"
      ],
      "metadata": {
        "colab": {
          "base_uri": "https://localhost:8080/",
          "height": 283
        },
        "id": "9jmWktmpBgmm",
        "outputId": "e6ca5fab-742b-49f1-fe1f-5b0297ca7281"
      },
      "execution_count": null,
      "outputs": [
        {
          "output_type": "execute_result",
          "data": {
            "text/plain": [
              "<matplotlib.legend.Legend at 0x7f8ba4c1d8d0>"
            ]
          },
          "metadata": {},
          "execution_count": 55
        },
        {
          "output_type": "display_data",
          "data": {
            "image/png": "[encoded data removed]",
            "text/plain": [
              "<Figure size 432x288 with 1 Axes>"
            ]
          },
          "metadata": {
            "needs_background": "light"
          }
        }
      ]
    },
    {
      "cell_type": "code",
      "source": [
        "plt.figure()\n",
        "plt.plot(train_accuracies , label=\"train accuracy\")\n",
        "plt.plot(val_accuracies, label=\"validation accuracy\")\n",
        "plt.legend()"
      ],
      "metadata": {
        "colab": {
          "base_uri": "https://localhost:8080/",
          "height": 283
        },
        "id": "Hyp8vk77uB-A",
        "outputId": "3bd5d0a4-4a1e-4d9f-a449-16f740267902"
      },
      "execution_count": null,
      "outputs": [
        {
          "output_type": "execute_result",
          "data": {
            "text/plain": [
              "<matplotlib.legend.Legend at 0x7f8baa479650>"
            ]
          },
          "metadata": {},
          "execution_count": 54
        },
        {
          "output_type": "display_data",
          "data": {
            "image/png": "[encoded data removed]",
            "text/plain": [
              "<Figure size 432x288 with 1 Axes>"
            ]
          },
          "metadata": {
            "needs_background": "light"
          }
        }
      ]
    }
  ]
}